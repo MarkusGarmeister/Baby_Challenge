


import pandas as pd








df = pd.read_csv('names/yob2021.txt', index_col=False, sep=',', header=None, names=['Name', 'Gender', 'Total'])





df.head(10)





df.shape





total_babies = df["Total"].sum()
total_babies





total_boys = df[df["Gender"] == "M"]["Total"].sum()
total_girls = df[df["Gender"] == "F"]["Total"].sum()

total_boys, total_girls





df[df["Name"] == "Markus"]





percentage_boys = (total_boys / total_babies).round(4) * 100
percentage_girls = (total_girls / total_babies).round(4) * 100
percentage_boys, percentage_girls





top5_boys = df[df["Gender"] == "M"].nlargest(5,"Total")
top5_girls = df[df["Gender"] == "F"].nlargest(5,"Total")
top5 = pd.concat([top5_boys, top5_girls])
top5





top5.to_excel('top5_boys_girls_names_2021.xlsx')

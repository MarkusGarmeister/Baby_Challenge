{
 "cells": [
  {
   "cell_type": "markdown",
   "id": "852d25b3-6a6b-4b10-b2e8-675e2bb3c07d",
   "metadata": {},
   "source": [
    "## Baby Challenge\n",
    "### Imports"
   ]
  },
  {
   "cell_type": "code",
   "execution_count": 240,
   "id": "f4d66b42-3f38-4f8d-a692-99dad52669bc",
   "metadata": {},
   "outputs": [],
   "source": [
    "import pandas as pd"
   ]
  },
  {
   "cell_type": "markdown",
   "id": "403d2dcd-49ee-4417-9e48-655eabfb5d71",
   "metadata": {},
   "source": [
    "#### Task 1\n",
    "Inspect the file `yob2021.txt` in a text editor. What do you observe about the structure of the file?\n",
    "\n",
    "Usually these questions are the most relevant:\n",
    "\n",
    "- How many columns are there?\n",
    "- How are columns separated?\n",
    "- Is there a header on top of the files?"
   ]
  },
  {
   "cell_type": "markdown",
   "id": "9c747d81-021a-4a3a-98aa-8fa883be3ddf",
   "metadata": {},
   "source": [
    "#### Task 2\n",
    "Read the file `yob2021.txt` into pandas."
   ]
  },
  {
   "cell_type": "code",
   "execution_count": 244,
   "id": "2d206b8f-e2cb-4ddf-9bb2-c83809d08433",
   "metadata": {},
   "outputs": [],
   "source": [
    "df = pd.read_csv('names/yob2021.txt', index_col=False, sep=',', header=None, names=['Name', 'Gender', 'Total'])"
   ]
  },
  {
   "cell_type": "markdown",
   "id": "ff3c6700-a1e3-4303-bfc1-ef3e5f01b3cc",
   "metadata": {},
   "source": [
    "#### Task 3\n",
    "Print the first 10 rows."
   ]
  },
  {
   "cell_type": "code",
   "execution_count": 247,
   "id": "a565144d-3828-4393-8e34-dcfb3240d493",
   "metadata": {},
   "outputs": [
    {
     "data": {
      "text/html": [
       "<div>\n",
       "<style scoped>\n",
       "    .dataframe tbody tr th:only-of-type {\n",
       "        vertical-align: middle;\n",
       "    }\n",
       "\n",
       "    .dataframe tbody tr th {\n",
       "        vertical-align: top;\n",
       "    }\n",
       "\n",
       "    .dataframe thead th {\n",
       "        text-align: right;\n",
       "    }\n",
       "</style>\n",
       "<table border=\"1\" class=\"dataframe\">\n",
       "  <thead>\n",
       "    <tr style=\"text-align: right;\">\n",
       "      <th></th>\n",
       "      <th>Name</th>\n",
       "      <th>Gender</th>\n",
       "      <th>Total</th>\n",
       "    </tr>\n",
       "  </thead>\n",
       "  <tbody>\n",
       "    <tr>\n",
       "      <th>0</th>\n",
       "      <td>Olivia</td>\n",
       "      <td>F</td>\n",
       "      <td>17824</td>\n",
       "    </tr>\n",
       "    <tr>\n",
       "      <th>1</th>\n",
       "      <td>Emma</td>\n",
       "      <td>F</td>\n",
       "      <td>15530</td>\n",
       "    </tr>\n",
       "    <tr>\n",
       "      <th>2</th>\n",
       "      <td>Charlotte</td>\n",
       "      <td>F</td>\n",
       "      <td>13352</td>\n",
       "    </tr>\n",
       "    <tr>\n",
       "      <th>3</th>\n",
       "      <td>Amelia</td>\n",
       "      <td>F</td>\n",
       "      <td>13024</td>\n",
       "    </tr>\n",
       "    <tr>\n",
       "      <th>4</th>\n",
       "      <td>Ava</td>\n",
       "      <td>F</td>\n",
       "      <td>12854</td>\n",
       "    </tr>\n",
       "    <tr>\n",
       "      <th>5</th>\n",
       "      <td>Sophia</td>\n",
       "      <td>F</td>\n",
       "      <td>12559</td>\n",
       "    </tr>\n",
       "    <tr>\n",
       "      <th>6</th>\n",
       "      <td>Isabella</td>\n",
       "      <td>F</td>\n",
       "      <td>11288</td>\n",
       "    </tr>\n",
       "    <tr>\n",
       "      <th>7</th>\n",
       "      <td>Mia</td>\n",
       "      <td>F</td>\n",
       "      <td>11157</td>\n",
       "    </tr>\n",
       "    <tr>\n",
       "      <th>8</th>\n",
       "      <td>Evelyn</td>\n",
       "      <td>F</td>\n",
       "      <td>9484</td>\n",
       "    </tr>\n",
       "    <tr>\n",
       "      <th>9</th>\n",
       "      <td>Harper</td>\n",
       "      <td>F</td>\n",
       "      <td>8433</td>\n",
       "    </tr>\n",
       "  </tbody>\n",
       "</table>\n",
       "</div>"
      ],
      "text/plain": [
       "        Name Gender  Total\n",
       "0     Olivia      F  17824\n",
       "1       Emma      F  15530\n",
       "2  Charlotte      F  13352\n",
       "3     Amelia      F  13024\n",
       "4        Ava      F  12854\n",
       "5     Sophia      F  12559\n",
       "6   Isabella      F  11288\n",
       "7        Mia      F  11157\n",
       "8     Evelyn      F   9484\n",
       "9     Harper      F   8433"
      ]
     },
     "execution_count": 247,
     "metadata": {},
     "output_type": "execute_result"
    }
   ],
   "source": [
    "df.head(10)"
   ]
  },
  {
   "cell_type": "markdown",
   "id": "b009fe7b-7650-4b1d-9694-244a3a2ac51a",
   "metadata": {},
   "source": [
    "#### Task 4\n",
    "Display the number of rows and columns."
   ]
  },
  {
   "cell_type": "code",
   "execution_count": 250,
   "id": "1c8c007e-0823-4a14-9759-17b1f34920e7",
   "metadata": {},
   "outputs": [
    {
     "data": {
      "text/plain": [
       "(31729, 3)"
      ]
     },
     "execution_count": 250,
     "metadata": {},
     "output_type": "execute_result"
    }
   ],
   "source": [
    "df.shape"
   ]
  },
  {
   "cell_type": "markdown",
   "id": "2250670a-0081-4b15-bb96-18ddcfa279e0",
   "metadata": {},
   "source": [
    "#### Task 5\n",
    "Calculate the total number of babies born in 2021, i.e. the sum of the third column."
   ]
  },
  {
   "cell_type": "code",
   "execution_count": 253,
   "id": "2a999b3e-9b22-44c4-b285-095e87b8d430",
   "metadata": {},
   "outputs": [
    {
     "data": {
      "text/plain": [
       "3384687"
      ]
     },
     "execution_count": 253,
     "metadata": {},
     "output_type": "execute_result"
    }
   ],
   "source": [
    "total_babies = df[\"Total\"].sum()\n",
    "total_babies"
   ]
  },
  {
   "cell_type": "markdown",
   "id": "10be63cf-1577-425c-a2e7-71af389a5981",
   "metadata": {},
   "source": [
    "#### Task 6\n",
    "Like Task 5, but calculate the sum for boys and girls separately."
   ]
  },
  {
   "cell_type": "code",
   "execution_count": 256,
   "id": "56f1af28-c428-4252-a994-bb2d000b462b",
   "metadata": {},
   "outputs": [
    {
     "data": {
      "text/plain": [
       "(1746499, 1638188)"
      ]
     },
     "execution_count": 256,
     "metadata": {},
     "output_type": "execute_result"
    }
   ],
   "source": [
    "total_boys = df[df[\"Gender\"] == \"M\"][\"Total\"].sum()\n",
    "total_girls = df[df[\"Gender\"] == \"F\"][\"Total\"].sum()\n",
    "\n",
    "total_boys, total_girls"
   ]
  },
  {
   "cell_type": "markdown",
   "id": "ba145622-e502-4f9b-a895-e62db3d6422e",
   "metadata": {},
   "source": [
    "#### Task 7\n",
    "Check if your name occurs in the data."
   ]
  },
  {
   "cell_type": "code",
   "execution_count": 259,
   "id": "b22a6638-08df-4266-8dde-eaeefd50b4a6",
   "metadata": {},
   "outputs": [
    {
     "data": {
      "text/html": [
       "<div>\n",
       "<style scoped>\n",
       "    .dataframe tbody tr th:only-of-type {\n",
       "        vertical-align: middle;\n",
       "    }\n",
       "\n",
       "    .dataframe tbody tr th {\n",
       "        vertical-align: top;\n",
       "    }\n",
       "\n",
       "    .dataframe thead th {\n",
       "        text-align: right;\n",
       "    }\n",
       "</style>\n",
       "<table border=\"1\" class=\"dataframe\">\n",
       "  <thead>\n",
       "    <tr style=\"text-align: right;\">\n",
       "      <th></th>\n",
       "      <th>Name</th>\n",
       "      <th>Gender</th>\n",
       "      <th>Total</th>\n",
       "    </tr>\n",
       "  </thead>\n",
       "  <tbody>\n",
       "    <tr>\n",
       "      <th>18779</th>\n",
       "      <td>Markus</td>\n",
       "      <td>M</td>\n",
       "      <td>180</td>\n",
       "    </tr>\n",
       "  </tbody>\n",
       "</table>\n",
       "</div>"
      ],
      "text/plain": [
       "         Name Gender  Total\n",
       "18779  Markus      M    180"
      ]
     },
     "execution_count": 259,
     "metadata": {},
     "output_type": "execute_result"
    }
   ],
   "source": [
    "df[df[\"Name\"] == \"Markus\"]"
   ]
  },
  {
   "cell_type": "markdown",
   "id": "f7745eed-161f-48ed-b6ef-8c4507fcd754",
   "metadata": {},
   "source": [
    "#### Task 8\n",
    "Calculate the percentage of girls and boys among the total births."
   ]
  },
  {
   "cell_type": "code",
   "execution_count": 262,
   "id": "b6b4b711-a627-4595-9483-3d58a15d4a57",
   "metadata": {},
   "outputs": [
    {
     "data": {
      "text/plain": [
       "(51.6, 48.4)"
      ]
     },
     "execution_count": 262,
     "metadata": {},
     "output_type": "execute_result"
    }
   ],
   "source": [
    "percentage_boys = (total_boys / total_babies).round(4) * 100\n",
    "percentage_girls = (total_girls / total_babies).round(4) * 100\n",
    "percentage_boys, percentage_girls"
   ]
  },
  {
   "cell_type": "markdown",
   "id": "05c0b0ae-f748-4089-9a22-1db40c8abaf6",
   "metadata": {},
   "source": [
    "#### Task 9\n",
    "Create a table that contains the top 5 girls names and top 5 boys names."
   ]
  },
  {
   "cell_type": "code",
   "execution_count": 265,
   "id": "90311ba7-904f-4adf-99d9-9bc2de4c2c31",
   "metadata": {},
   "outputs": [
    {
     "data": {
      "text/html": [
       "<div>\n",
       "<style scoped>\n",
       "    .dataframe tbody tr th:only-of-type {\n",
       "        vertical-align: middle;\n",
       "    }\n",
       "\n",
       "    .dataframe tbody tr th {\n",
       "        vertical-align: top;\n",
       "    }\n",
       "\n",
       "    .dataframe thead th {\n",
       "        text-align: right;\n",
       "    }\n",
       "</style>\n",
       "<table border=\"1\" class=\"dataframe\">\n",
       "  <thead>\n",
       "    <tr style=\"text-align: right;\">\n",
       "      <th></th>\n",
       "      <th>Name</th>\n",
       "      <th>Gender</th>\n",
       "      <th>Total</th>\n",
       "    </tr>\n",
       "  </thead>\n",
       "  <tbody>\n",
       "    <tr>\n",
       "      <th>17649</th>\n",
       "      <td>Liam</td>\n",
       "      <td>M</td>\n",
       "      <td>20391</td>\n",
       "    </tr>\n",
       "    <tr>\n",
       "      <th>17650</th>\n",
       "      <td>Noah</td>\n",
       "      <td>M</td>\n",
       "      <td>18884</td>\n",
       "    </tr>\n",
       "    <tr>\n",
       "      <th>17651</th>\n",
       "      <td>Oliver</td>\n",
       "      <td>M</td>\n",
       "      <td>14696</td>\n",
       "    </tr>\n",
       "    <tr>\n",
       "      <th>17652</th>\n",
       "      <td>Elijah</td>\n",
       "      <td>M</td>\n",
       "      <td>12807</td>\n",
       "    </tr>\n",
       "    <tr>\n",
       "      <th>17653</th>\n",
       "      <td>James</td>\n",
       "      <td>M</td>\n",
       "      <td>12452</td>\n",
       "    </tr>\n",
       "    <tr>\n",
       "      <th>0</th>\n",
       "      <td>Olivia</td>\n",
       "      <td>F</td>\n",
       "      <td>17824</td>\n",
       "    </tr>\n",
       "    <tr>\n",
       "      <th>1</th>\n",
       "      <td>Emma</td>\n",
       "      <td>F</td>\n",
       "      <td>15530</td>\n",
       "    </tr>\n",
       "    <tr>\n",
       "      <th>2</th>\n",
       "      <td>Charlotte</td>\n",
       "      <td>F</td>\n",
       "      <td>13352</td>\n",
       "    </tr>\n",
       "    <tr>\n",
       "      <th>3</th>\n",
       "      <td>Amelia</td>\n",
       "      <td>F</td>\n",
       "      <td>13024</td>\n",
       "    </tr>\n",
       "    <tr>\n",
       "      <th>4</th>\n",
       "      <td>Ava</td>\n",
       "      <td>F</td>\n",
       "      <td>12854</td>\n",
       "    </tr>\n",
       "  </tbody>\n",
       "</table>\n",
       "</div>"
      ],
      "text/plain": [
       "            Name Gender  Total\n",
       "17649       Liam      M  20391\n",
       "17650       Noah      M  18884\n",
       "17651     Oliver      M  14696\n",
       "17652     Elijah      M  12807\n",
       "17653      James      M  12452\n",
       "0         Olivia      F  17824\n",
       "1           Emma      F  15530\n",
       "2      Charlotte      F  13352\n",
       "3         Amelia      F  13024\n",
       "4            Ava      F  12854"
      ]
     },
     "execution_count": 265,
     "metadata": {},
     "output_type": "execute_result"
    }
   ],
   "source": [
    "top5_boys = df[df[\"Gender\"] == \"M\"].nlargest(5,\"Total\")\n",
    "top5_girls = df[df[\"Gender\"] == \"F\"].nlargest(5,\"Total\")\n",
    "top5 = pd.concat([top5_boys, top5_girls])\n",
    "top5"
   ]
  },
  {
   "cell_type": "markdown",
   "id": "e274c5a4-641f-409e-ab62-eddc066ba908",
   "metadata": {},
   "source": [
    "#### Task 10\n",
    "Write the data from task 9 to an Excel spreadsheet."
   ]
  },
  {
   "cell_type": "code",
   "execution_count": 268,
   "id": "2cfe0570-0d2c-4468-8f45-9219bd6d4dab",
   "metadata": {},
   "outputs": [],
   "source": [
    "top5.to_excel('top5_boys_girls_names_2021.xlsx')"
   ]
  }
 ],
 "metadata": {
  "kernelspec": {
   "display_name": "Python 3 (ipykernel)",
   "language": "python",
   "name": "python3"
  },
  "language_info": {
   "codemirror_mode": {
    "name": "ipython",
    "version": 3
   },
   "file_extension": ".py",
   "mimetype": "text/x-python",
   "name": "python",
   "nbconvert_exporter": "python",
   "pygments_lexer": "ipython3",
   "version": "3.12.4"
  }
 },
 "nbformat": 4,
 "nbformat_minor": 5
}
